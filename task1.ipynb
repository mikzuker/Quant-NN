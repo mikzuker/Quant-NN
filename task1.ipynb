{
  "nbformat": 4,
  "nbformat_minor": 0,
  "metadata": {
    "colab": {
      "provenance": []
    },
    "kernelspec": {
      "name": "python3",
      "display_name": "Python 3"
    },
    "language_info": {
      "name": "python"
    }
  },
  "cells": [
    {
      "cell_type": "markdown",
      "source": [
        "# **Задача 1**\n",
        "В задаче 1 необходимо сформировать инвестиционный портфель из 100 компаний, ограничений на число акций одной компании не было, но всего было $10^6$ долларов. Были даны стоимости акций за 100 периодов, необходимо было добиться максимальной средней доходности при риске меньшем или примерно равном 0,2.\n",
        "\n",
        "Наша команда приняла решение свести данную задачу к QUBO-задаче. Для того, чтобы учесть необходимость минимизации риска при максимизации доходности, нами было принято решение за основную часть Гамильтониана взять матрицу ковариаций акций, а за штрафную часть - квадратичную разность стоимости нашего портфеля и $10^6$. При этом, поскольку QUBO лишь бинаризует итоговый вектор, а акций можно взять сколько угодно, мы перевели их число в двоичные, т.е. 101 кодирует 5 и т.д.\n",
        "Получили $$H = H^{cov}+H^{pen},$$\n",
        "$$H^{cov} = \\sum_{i,j}Cov(i,j)\\sum^N_lp_l2^{l-1}q_{i,l}\\sum^N_lp_l2^{l-1}q_{j,l}$$\n",
        "$$H^{pen} = \\sum_i(\\sum^N_lp_l2^{l-1}q_{i,l})$$\n",
        "Для задачи QUBO\n",
        "$$Q = \\chi H^{cov} + \\lambda(H^{pen}-K)^2,$$ после чего из второго слагаемого было отброшено $\\lambda K^2$ и учтено, что квадраты и перекрестные значения $q_iq_j$ могут принимать только значения (0,1)\n",
        "\n"
      ],
      "metadata": {
        "id": "9v9Nn0UWdN9k"
      }
    },
    {
      "cell_type": "code",
      "source": [
        "import numpy as np\n",
        "import pandas as pd\n",
        "import seaborn as sns\n",
        "import pyqiopt as pq\n",
        "\n",
        "n = 100\n",
        "K = 100000\n",
        "lambda_penalty = 100\n",
        "\n",
        "num_of_dec = 10 #Сколько разрядов мы будем кодировать\n",
        "\n",
        "df = pd.read_csv('task-1-stocks.csv')\n",
        "profit = df.pct_change().dropna()\n",
        "cov = profit.cov() #Посчитали ковариации\n",
        "\n",
        "P_i = df.iloc[0].to_numpy()\n",
        "cov_matrix = cov.to_numpy()\n",
        "\n",
        "cov_ = np.zeros((num_of_dec * 100, num_of_dec * 100))\n",
        "\n",
        "coef_matr = np.zeros((num_of_dec, num_of_dec))\n",
        "for i in range(num_of_dec):\n",
        "  for j in range(num_of_dec):\n",
        "    coef_matr[i][j] = 2**(num_of_dec-1-i)*2**(num_of_dec-1-j)\n",
        "#П\n",
        "\n",
        "for i in range(100):\n",
        "  temp = np.zeros((num_of_dec, num_of_dec * 100))\n",
        "  for j in range(100):\n",
        "    a = cov_matrix[i, j]\n",
        "    a_matr = a*coef_matr\n",
        "    temp[:, num_of_dec * j:num_of_dec * j + num_of_dec] = a_matr\n",
        "  cov_[num_of_dec * i:num_of_dec * i + num_of_dec, :] = temp\n",
        "\n",
        "coef_list = np.array([2*2**i for i in range(num_of_dec-1,-1,-1)])\n",
        "KP = np.zeros((num_of_dec*100, num_of_dec*100))\n",
        "for i in range(100):\n",
        "  for j in range(num_of_dec):\n",
        "    KP[num_of_dec * i + j, num_of_dec * i + j] = K * P_i[i] * coef_list[j]\n",
        "\n",
        "p_vec = np.zeros(num_of_dec*100)\n",
        "\n",
        "for i in range(100):\n",
        "  for j in range(num_of_dec):\n",
        "    p_vec[num_of_dec * i + j] = coef_list[j] / 2 * P_i[i]\n",
        "\n",
        "P_i_sq = np.zeros((num_of_dec*100, num_of_dec*100))\n",
        "\n",
        "for i in range(num_of_dec*100):\n",
        "  for j in range(num_of_dec*100):\n",
        "    P_i_sq[i, j] = p_vec[i] * p_vec[j]\n",
        "\n",
        "QUBO = cov_ + lambda_penalty * (P_i_sq - KP)\n",
        "\n",
        "result = pq.solve(QUBO)\n",
        "vec = list(result.vector)\n",
        "\n",
        "num_of_ac = np.zeros(100)\n",
        "for i in range(100):\n",
        "  num_of_ac[i] = (coef_list * 0.5) @ vec[num_of_dec * i: num_of_dec * i + num_of_dec]\n",
        "\n",
        "costs = df.iloc[0].to_numpy()\n",
        "p_new = costs @ num_of_ac\n",
        "ri = np.zeros(99)\n",
        "for i in range(1, 100):\n",
        "  costs = df.iloc[i].to_numpy()\n",
        "  p_old = p_new\n",
        "  p_new = costs @ num_of_ac\n",
        "  ri[i - 1] = (p_new - p_old) / p_old\n",
        "\n",
        "ri_mean = ri.mean()\n",
        "sigma = np.sqrt(100 * np.sum((ri - ri_mean) ** 2) / 99)\n",
        "\n",
        "print(ri_mean, sigma)"
      ],
      "metadata": {
        "colab": {
          "base_uri": "https://localhost:8080/"
        },
        "id": "NKuZIDPlbnQE",
        "outputId": "df94ddb3-39af-4a41-ec59-98058783d730"
      },
      "execution_count": null,
      "outputs": [
        {
          "output_type": "execute_result",
          "data": {
            "text/plain": [
              "44324.59893012047"
            ]
          },
          "metadata": {},
          "execution_count": 93
        }
      ]
    },
    {
      "cell_type": "code",
      "source": [
        "num_of_dec = 10\n",
        "coef_matr = np.zeros((num_of_dec, num_of_dec))\n",
        "for i in range(num_of_dec):\n",
        "  for j in range(num_of_dec):\n",
        "    coef_matr[i][j] = 2**(num_of_dec-1-i)*2**(num_of_dec-1-j)\n",
        "coef_matr"
      ],
      "metadata": {
        "colab": {
          "base_uri": "https://localhost:8080/"
        },
        "id": "z4DJTNgBboEV",
        "outputId": "01555988-d6e5-412c-ab8f-93ad1093a4c1"
      },
      "execution_count": null,
      "outputs": [
        {
          "output_type": "execute_result",
          "data": {
            "text/plain": [
              "array([[2.62144e+05, 1.31072e+05, 6.55360e+04, 3.27680e+04, 1.63840e+04,\n",
              "        8.19200e+03, 4.09600e+03, 2.04800e+03, 1.02400e+03, 5.12000e+02],\n",
              "       [1.31072e+05, 6.55360e+04, 3.27680e+04, 1.63840e+04, 8.19200e+03,\n",
              "        4.09600e+03, 2.04800e+03, 1.02400e+03, 5.12000e+02, 2.56000e+02],\n",
              "       [6.55360e+04, 3.27680e+04, 1.63840e+04, 8.19200e+03, 4.09600e+03,\n",
              "        2.04800e+03, 1.02400e+03, 5.12000e+02, 2.56000e+02, 1.28000e+02],\n",
              "       [3.27680e+04, 1.63840e+04, 8.19200e+03, 4.09600e+03, 2.04800e+03,\n",
              "        1.02400e+03, 5.12000e+02, 2.56000e+02, 1.28000e+02, 6.40000e+01],\n",
              "       [1.63840e+04, 8.19200e+03, 4.09600e+03, 2.04800e+03, 1.02400e+03,\n",
              "        5.12000e+02, 2.56000e+02, 1.28000e+02, 6.40000e+01, 3.20000e+01],\n",
              "       [8.19200e+03, 4.09600e+03, 2.04800e+03, 1.02400e+03, 5.12000e+02,\n",
              "        2.56000e+02, 1.28000e+02, 6.40000e+01, 3.20000e+01, 1.60000e+01],\n",
              "       [4.09600e+03, 2.04800e+03, 1.02400e+03, 5.12000e+02, 2.56000e+02,\n",
              "        1.28000e+02, 6.40000e+01, 3.20000e+01, 1.60000e+01, 8.00000e+00],\n",
              "       [2.04800e+03, 1.02400e+03, 5.12000e+02, 2.56000e+02, 1.28000e+02,\n",
              "        6.40000e+01, 3.20000e+01, 1.60000e+01, 8.00000e+00, 4.00000e+00],\n",
              "       [1.02400e+03, 5.12000e+02, 2.56000e+02, 1.28000e+02, 6.40000e+01,\n",
              "        3.20000e+01, 1.60000e+01, 8.00000e+00, 4.00000e+00, 2.00000e+00],\n",
              "       [5.12000e+02, 2.56000e+02, 1.28000e+02, 6.40000e+01, 3.20000e+01,\n",
              "        1.60000e+01, 8.00000e+00, 4.00000e+00, 2.00000e+00, 1.00000e+00]])"
            ]
          },
          "metadata": {},
          "execution_count": 101
        }
      ]
    },
    {
      "cell_type": "code",
      "source": [
        "coef_list = np.array([2*2**i for i in range(num_of_dec-1,-1,-1)])\n",
        "coef_list"
      ],
      "metadata": {
        "colab": {
          "base_uri": "https://localhost:8080/"
        },
        "id": "oYf489NLfBX4",
        "outputId": "bd1e494b-aa5e-4421-8f50-97bf1f2eaf98"
      },
      "execution_count": null,
      "outputs": [
        {
          "output_type": "execute_result",
          "data": {
            "text/plain": [
              "array([1024,  512,  256,  128,   64,   32,   16,    8,    4,    2])"
            ]
          },
          "metadata": {},
          "execution_count": 104
        }
      ]
    }
  ]
}